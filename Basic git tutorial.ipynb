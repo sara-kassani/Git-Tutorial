{
 "cells": [
  {
   "cell_type": "markdown",
   "metadata": {},
   "source": [
    "##### Sources: https://github.com/practical-neuroimaging/pna2015\n",
    "\n",
    "# Basic git"
   ]
  },
  {
   "cell_type": "markdown",
   "metadata": {},
   "source": [
    "Does git know who you are ? try the following in a terminal:\n",
    "\n",
    "```\n",
    "$ git config user.name\n",
    "$ git config user.email\n",
    "```"
   ]
  },
  {
   "cell_type": "markdown",
   "metadata": {},
   "source": [
    "If there is no satisfactory answer, tell git who you are, so that it inserts the right author name into the commits (snapshots). Don't forget the quotes around your name.\n",
    "\n",
    "```\n",
    "$ git config --global user.name \"Matthew Brett\"\n",
    "$ git config --global user.email matthew.brett@gmail.com\n",
    "```\n",
    "\n",
    "Check these have worked with:\n",
    "\n",
    "```\n",
    "$ git config user.name\n",
    "$ git config user.email\n",
    "```"
   ]
  },
  {
   "cell_type": "markdown",
   "metadata": {},
   "source": [
    "### Creating a repository\n",
    "\n",
    "Let's go ahead and create our first git repository, which will contain our versions of the spm functions:\n",
    "\n",
    "Create a directory called \"pna_code\":\n",
    "\n",
    "```\n",
    "$ cd  # change to your home directory\n",
    "$ mkdir pna_code\n",
    "```\n",
    "\n",
    "Change into this directory:\n",
    "\n",
    "```\n",
    "$ cd pna_code\n",
    "```\n",
    "\n",
    "Execute the command \"git init\":\n",
    "\n",
    "```\n",
    "$ git init\n",
    "Initialized empty Git repository in <home>/pna_code/.git/\n",
    "```\n",
    "\n",
    "Git now created a directory (called ``.git``) in which it tracks the changes that you make to the project.\n",
    "\n",
    "```\n",
    "$ ls .git\n",
    "```"
   ]
  },
  {
   "cell_type": "markdown",
   "metadata": {},
   "source": [
    "### Adding changes\n",
    "\n",
    "Now, we are ready to start tracking our files and any changes we make to them.  \n",
    "\n",
    "If you wrote your own awesome `spm_funcs.py` then copy that file into this directory:\n",
    "\n",
    "```\n",
    "$ cp ~/pna/pna2015/day3/spm_funcs.py .\n",
    "```\n",
    "\n",
    "If you think that my version might be more awesome, copy that instead, but with the file name `spm_funcs.py`:\n",
    "\n",
    "```\n",
    "$ cp ~/pna/pna2015/day3/spm_funcs_solution.py spm_funcs.py\n",
    "```\n",
    "\n",
    "Next copy the test script into this directory:\n",
    "\n",
    "```\n",
    "$ cp ~/pna/pna2015/day3/test_spm_funcs.py .\n",
    "```\n",
    "\n",
    "This is our *working tree*:\n",
    "\n",
    "```\n",
    "$ ls\n",
    "spm_funcs.py\t\ttest_spm_funcs.py\n",
    "```"
   ]
  },
  {
   "cell_type": "markdown",
   "metadata": {},
   "source": [
    "## Monitoring the status of things\n",
    "\n",
    "Now we have a git repository, we can ask git to tell us about the *status* of the working tree:\n",
    "\n",
    "```\n",
    "$ git status\n",
    "On branch master\n",
    "\n",
    "Initial commit\n",
    "\n",
    "Untracked files:\n",
    "  (use \"git add <file>...\" to include in what will be committed)\n",
    "\n",
    "\tspm_funcs.py\n",
    "\ttest_spm_funcs.py\n",
    "```\n",
    "\n",
    "Git says that it is on a branch called 'master'.  This is the default branch that git creates for us.  Of course it doesn't have any commits (snaphots) yet.\n",
    "\n",
    "There are two files in the working tree, but git doesn't know anything about these yet (they haven't gone into the staging area, or a commit == snapshot).  Git calls these type of files \"untracked\"."
   ]
  },
  {
   "cell_type": "markdown",
   "metadata": {},
   "source": [
    "Now let's add these files to the staging area, ready for a commit:\n",
    "\n",
    "```\n",
    "$ git add spm_funcs.py\n",
    "$ git add test_spm_funcs.py\n",
    "```\n",
    "\n",
    "Now what does `git status` say?"
   ]
  },
  {
   "cell_type": "markdown",
   "metadata": {},
   "source": [
    "```\n",
    "$ git status\n",
    "On branch master\n",
    "\n",
    "Initial commit\n",
    "\n",
    "Changes to be committed:\n",
    "  (use \"git rm --cached <file>...\" to unstage)\n",
    "\n",
    "\tnew file:   spm_funcs.py\n",
    "\tnew file:   test_spm_funcs.py\n",
    "```"
   ]
  },
  {
   "cell_type": "markdown",
   "metadata": {},
   "source": [
    "Now we have the files in the staging area, we are ready to make a commit.\n",
    "\n",
    "```\n",
    "$ git commit -m \"First commit\"\n",
    "[master (root-commit) 5c1885f] First commit\n",
    " 2 files changed, 46 insertions(+)\n",
    " create mode 100644 spm_funcs.py\n",
    " create mode 100644 test_spm_funcs.py\n",
    "```"
   ]
  },
  {
   "cell_type": "markdown",
   "metadata": {},
   "source": [
    "Get our history so far:\n",
    "\n",
    "```\n",
    "$ git log\n",
    "commit 3b749610ff5287f6de2a3b7d86e67d44129bbbc3\n",
    "Author: Matthew Brett <matthew.brett@gmail.com>\n",
    "Date:   Wed Mar 11 19:16:35 2015 -0700\n",
    "\n",
    "    First commit\n",
    "```"
   ]
  }
 ],
 "metadata": {
  "kernelspec": {
   "display_name": "Python 3",
   "language": "python",
   "name": "python3"
  },
  "language_info": {
   "codemirror_mode": {
    "name": "ipython",
    "version": 3
   },
   "file_extension": ".py",
   "mimetype": "text/x-python",
   "name": "python",
   "nbconvert_exporter": "python",
   "pygments_lexer": "ipython3",
   "version": "3.6.5"
  }
 },
 "nbformat": 4,
 "nbformat_minor": 1
}
